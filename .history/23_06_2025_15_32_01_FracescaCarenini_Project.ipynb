{
 "cells": [
  {
   "cell_type": "markdown",
   "id": "eec262b7-3965-42c7-ac13-bec4ca7e8f36",
   "metadata": {},
   "source": [
    "# Data Science Final Project Report"
   ]
  },
  {
   "cell_type": "code",
   "execution_count": null,
   "id": "25eef9bb-e1e6-4e78-a995-c31679c0e3bf",
   "metadata": {},
   "outputs": [],
   "source": [
    "library(tidyverse)\n",
    "library(dplyr)\n",
    "library(repr)"
   ]
  },
  {
   "cell_type": "markdown",
   "id": "ad5672ea-a9a5-4592-a893-65aee7858d16",
   "metadata": {},
   "source": [
    "## Introduction"
   ]
  },
  {
   "cell_type": "markdown",
   "id": "4efc6505-145c-4670-8e77-31f74c78f92e",
   "metadata": {},
   "source": [
    "### Background"
   ]
  },
  {
   "cell_type": "markdown",
   "id": "fec11864-8eca-4a3e-84a0-691189187550",
   "metadata": {},
   "source": [
    "Video games are increasingly being used as platforms for research, offering rich data on user behaviour in interactive environments. A research group at the University of British Columbia (UBC) has set up a customized Minecraft server to study how players interact with the game world, logging detailed information about each player's characteristics and in-game activity. These data can help address practical challenges such as server capacity planning and targeted participant recruitment by identifying patterns in user engagement. In this project, we use data from the Minecraft server to investigate whether player characteristics—specifically gender and gaming experience—can predict how many hours a player spends on the server. To conduct our analysis, we use R to wrangle, clean, and visualize the data, and apply appropriate statistical models to answer our predictive question. The findings may provide insights that support more efficient resource allocation and outreach efforts for the research team."
   ]
  },
  {
   "cell_type": "markdown",
   "id": "b4ef38f0-f027-4e23-993e-530b928cf90f",
   "metadata": {},
   "source": [
    "### Question"
   ]
  },
  {
   "cell_type": "markdown",
   "id": "763724ad-82d3-472c-b591-da39425e56c5",
   "metadata": {},
   "source": [
    "For this report, I decided to use question two as my guiding question, which is as follows:\n",
    "        We would like to know which \"kinds\" of players are most likely to contribute a large amount of data so that we can\n",
    "        target those players in our recruiting efforts.\n",
    "From this question, I am interested in discovering if playing time (in hours) and age of a player can predict wether a player is subscribed, and if they can, use these predictions to help see which types of players are most likely to contribute the most data by being subscribed to minecraft and willing to pay to keep playing."
   ]
  },
  {
   "cell_type": "markdown",
   "id": "7804617c-b501-43ed-8215-20fbbe0ecbc6",
   "metadata": {},
   "source": [
    "### Data Description"
   ]
  },
  {
   "cell_type": "code",
   "execution_count": null,
   "id": "29a678dc-794b-4927-922a-49a686442175",
   "metadata": {},
   "outputs": [],
   "source": []
  },
  {
   "cell_type": "markdown",
   "id": "a83981ad-5271-41d5-bd92-5be9c15e82e8",
   "metadata": {},
   "source": [
    "The data set that was used to answer the question is from the file players.csv, and it contains 196 observations. It has 7 variables:\n",
    " ##### character data type\n",
    " - experience\n",
    " - hashedEmail\n",
    " - name\n",
    " - gender\n",
    "##### double data type\n",
    "- Age\n",
    "- played_hours\n",
    "##### logical data type\n",
    "- subscribe\n",
    "\n",
    "The variables needed for this analysis will be gender, played_hours, and Age. The Age variable describes the age of players, while the played_hours variable shows the time players spend in the game in hours. Finally, the subscribe variable describes whether a player is subscribed to the game or not. There are no issues with the variables I will be using; therefore, once I modify the data to contain only the variables I need, it will be ready to use in my analyses. The data set can be viewed below:"
   ]
  },
  {
   "cell_type": "code",
   "execution_count": null,
   "id": "829a78b0-0ef6-44e6-a189-854edbedde1f",
   "metadata": {},
   "outputs": [],
   "source": [
    "players_data <- read_csv(\"data/players.csv\")\n",
    "players_data"
   ]
  },
  {
   "cell_type": "markdown",
   "id": "85c7f386-1f7f-4a03-8a55-207cd979d432",
   "metadata": {},
   "source": [
    "## Method"
   ]
  },
  {
   "cell_type": "markdown",
   "id": "19305ade-2f86-4261-b1ad-800cd81a126a",
   "metadata": {},
   "source": [
    "The first step of analysis is to load the data set into R, which was done above using the read_cvs function. The next step is to select only the columns of interest, which are Age, played_hours, and subscribe. This was done using the summarize function."
   ]
  },
  {
   "cell_type": "code",
   "execution_count": null,
   "id": "e2ca41ac-e149-467c-a8e2-60851544294f",
   "metadata": {},
   "outputs": [],
   "source": [
    "players_data <- players_data |>\n",
    "    select(Age, played_hours, subscribe)\n",
    "players_data"
   ]
  },
  {
   "cell_type": "markdown",
   "id": "f947c7bb-29f5-408c-9d48-36279a7a060e",
   "metadata": {},
   "source": [
    "The next step is to make a graph showing the relationship between the variables, so "
   ]
  }
 ],
 "metadata": {
  "kernelspec": {
   "display_name": "R",
   "language": "R",
   "name": "ir"
  },
  "language_info": {
   "codemirror_mode": "r",
   "file_extension": ".r",
   "mimetype": "text/x-r-source",
   "name": "R",
   "pygments_lexer": "r",
   "version": "4.3.3"
  }
 },
 "nbformat": 4,
 "nbformat_minor": 5
}
